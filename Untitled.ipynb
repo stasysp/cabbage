{
 "cells": [
  {
   "cell_type": "code",
   "execution_count": 1,
   "metadata": {},
   "outputs": [
    {
     "name": "stderr",
     "output_type": "stream",
     "text": [
      "Using TensorFlow backend.\n"
     ]
    }
   ],
   "source": [
    "import numpy as np\n",
    "from cabbage.MultiplePeopleTracking import execute_multiple_people_tracking"
   ]
  },
  {
   "cell_type": "code",
   "execution_count": 7,
   "metadata": {},
   "outputs": [
    {
     "data": {
      "text/plain": [
       "(1080, 1920, 3)"
      ]
     },
     "execution_count": 7,
     "metadata": {},
     "output_type": "execute_result"
    }
   ],
   "source": [
    "import cv2\n",
    "\n",
    "frame = cv2.imread('/home/stasysp/Envs/Datasets/MOT16/train/MOT16-02/img1/000001.jpg')\n",
    "frame.shape"
   ]
  },
  {
   "cell_type": "code",
   "execution_count": 8,
   "metadata": {},
   "outputs": [
    {
     "name": "stdout",
     "output_type": "stream",
     "text": [
      "600\n"
     ]
    }
   ],
   "source": [
    "import os\n",
    "\n",
    "for i in os.walk('/home/stasysp/Envs/Datasets/MOT16/train/MOT16-02/img1'):\n",
    "    print(len(sorted(i[2])))"
   ]
  },
  {
   "cell_type": "code",
   "execution_count": 9,
   "metadata": {
    "scrolled": true
   },
   "outputs": [
    {
     "name": "stdout",
     "output_type": "stream",
     "text": [
      "{DM}: solve 1 -> 1\n",
      "{DM}: solve 1 -> 2\n",
      "{DM}: solve 1 -> 3\n",
      "{DM}: solve 1 -> 4\n",
      "{DM}: solve 1 -> 5\n",
      "{DM}: solve 1 -> 6\n",
      "{DM}: solve 1 -> 7\n",
      "{DM}: solve 1 -> 8\n",
      "{DM}: solve 1 -> 9\n",
      "{DM}: solve 1 -> 10\n",
      "{DM}: solve 1 -> 11\n",
      "{DM}: solve 1 -> 12\n",
      "{DM}: solve 1 -> 13\n",
      "{DM}: solve 1 -> 14\n",
      "{DM}: solve 1 -> 15\n",
      "{DM}: solve 2 -> 2\n",
      "{DM}: solve 2 -> 3\n",
      "{DM}: solve 2 -> 4\n",
      "{DM}: solve 2 -> 5\n",
      "{DM}: solve 2 -> 6\n",
      "{DM}: solve 2 -> 7\n",
      "{DM}: solve 2 -> 8\n",
      "{DM}: solve 2 -> 9\n",
      "{DM}: solve 2 -> 10\n",
      "{DM}: solve 2 -> 11\n",
      "{DM}: solve 2 -> 12\n",
      "{DM}: solve 2 -> 13\n",
      "{DM}: solve 2 -> 14\n",
      "{DM}: solve 2 -> 15\n",
      "{DM}: solve 3 -> 3\n",
      "{DM}: solve 3 -> 4\n",
      "{DM}: solve 3 -> 5\n",
      "{DM}: solve 3 -> 6\n",
      "{DM}: solve 3 -> 7\n",
      "{DM}: solve 3 -> 8\n",
      "{DM}: solve 3 -> 9\n",
      "{DM}: solve 3 -> 10\n",
      "{DM}: solve 3 -> 11\n",
      "{DM}: solve 3 -> 12\n",
      "{DM}: solve 3 -> 13\n",
      "{DM}: solve 3 -> 14\n",
      "{DM}: solve 3 -> 15\n",
      "{DM}: solve 4 -> 4\n",
      "{DM}: solve 4 -> 5\n",
      "{DM}: solve 4 -> 6\n",
      "{DM}: solve 4 -> 7\n",
      "{DM}: solve 4 -> 8\n",
      "{DM}: solve 4 -> 9\n",
      "{DM}: solve 4 -> 10\n",
      "{DM}: solve 4 -> 11\n",
      "{DM}: solve 4 -> 12\n",
      "{DM}: solve 4 -> 13\n",
      "{DM}: solve 4 -> 14\n",
      "{DM}: solve 4 -> 15\n",
      "{DM}: solve 5 -> 5\n",
      "{DM}: solve 5 -> 6\n",
      "{DM}: solve 5 -> 7\n",
      "{DM}: solve 5 -> 8\n",
      "{DM}: solve 5 -> 9\n",
      "{DM}: solve 5 -> 10\n",
      "{DM}: solve 5 -> 11\n",
      "{DM}: solve 5 -> 12\n",
      "{DM}: solve 5 -> 13\n",
      "{DM}: solve 5 -> 14\n",
      "{DM}: solve 5 -> 15\n",
      "{DM}: solve 6 -> 6\n",
      "{DM}: solve 6 -> 7\n",
      "{DM}: solve 6 -> 8\n",
      "{DM}: solve 6 -> 9\n",
      "{DM}: solve 6 -> 10\n",
      "{DM}: solve 6 -> 11\n",
      "{DM}: solve 6 -> 12\n",
      "{DM}: solve 6 -> 13\n",
      "{DM}: solve 6 -> 14\n",
      "{DM}: solve 6 -> 15\n",
      "{DM}: solve 7 -> 7\n",
      "{DM}: solve 7 -> 8\n",
      "{DM}: solve 7 -> 9\n",
      "{DM}: solve 7 -> 10\n",
      "{DM}: solve 7 -> 11\n",
      "{DM}: solve 7 -> 12\n",
      "{DM}: solve 7 -> 13\n",
      "{DM}: solve 7 -> 14\n",
      "{DM}: solve 7 -> 15\n",
      "{DM}: solve 8 -> 8\n",
      "{DM}: solve 8 -> 9\n",
      "{DM}: solve 8 -> 10\n",
      "{DM}: solve 8 -> 11\n",
      "{DM}: solve 8 -> 12\n",
      "{DM}: solve 8 -> 13\n",
      "{DM}: solve 8 -> 14\n",
      "{DM}: solve 8 -> 15\n",
      "{DM}: solve 9 -> 9\n",
      "{DM}: solve 9 -> 10\n",
      "{DM}: solve 9 -> 11\n",
      "{DM}: solve 9 -> 12\n",
      "{DM}: solve 9 -> 13\n",
      "{DM}: solve 9 -> 14\n",
      "{DM}: solve 9 -> 15\n",
      "{DM}: solve 10 -> 10\n",
      "{DM}: solve 10 -> 11\n",
      "{DM}: solve 10 -> 12\n",
      "{DM}: solve 10 -> 13\n",
      "{DM}: solve 10 -> 14\n",
      "{DM}: solve 10 -> 15\n",
      "{DM}: solve 11 -> 11\n",
      "{DM}: solve 11 -> 12\n",
      "{DM}: solve 11 -> 13\n",
      "{DM}: solve 11 -> 14\n",
      "{DM}: solve 11 -> 15\n",
      "{DM}: solve 12 -> 12\n",
      "{DM}: solve 12 -> 13\n",
      "{DM}: solve 12 -> 14\n",
      "{DM}: solve 12 -> 15\n",
      "{DM}: solve 13 -> 13\n",
      "{DM}: solve 13 -> 14\n",
      "{DM}: solve 13 -> 15\n",
      "{DM}: solve 14 -> 14\n",
      "{DM}: solve 14 -> 15\n",
      "{DM}: solve 15 -> 15\n"
     ]
    },
    {
     "ename": "NameError",
     "evalue": "name 'root' is not defined",
     "output_type": "error",
     "traceback": [
      "\u001b[0;31m---------------------------------------------------------------------------\u001b[0m",
      "\u001b[0;31mNameError\u001b[0m                                 Traceback (most recent call last)",
      "\u001b[0;32m<ipython-input-9-8629f1ae9687>\u001b[0m in \u001b[0;36m<module>\u001b[0;34m\u001b[0m\n\u001b[1;32m     11\u001b[0m \u001b[0msettings_loc\u001b[0m \u001b[0;34m=\u001b[0m \u001b[0;34m'./settings.txt'\u001b[0m  \u001b[0;31m# generated by the install.sh script\u001b[0m\u001b[0;34m\u001b[0m\u001b[0m\n\u001b[1;32m     12\u001b[0m \u001b[0;34m\u001b[0m\u001b[0m\n\u001b[0;32m---> 13\u001b[0;31m \u001b[0mexecute_multiple_people_tracking\u001b[0m\u001b[0;34m(\u001b[0m\u001b[0mvideo_loc\u001b[0m\u001b[0;34m,\u001b[0m \u001b[0mX\u001b[0m\u001b[0;34m,\u001b[0m \u001b[0mDt\u001b[0m\u001b[0;34m,\u001b[0m \u001b[0mvideo_name\u001b[0m\u001b[0;34m,\u001b[0m \u001b[0mdmax\u001b[0m\u001b[0;34m,\u001b[0m \u001b[0msettings_loc\u001b[0m\u001b[0;34m)\u001b[0m\u001b[0;34m\u001b[0m\u001b[0m\n\u001b[0m",
      "\u001b[0;32m~/Envs/shad/project/cabbage/cabbage/MultiplePeopleTracking.py\u001b[0m in \u001b[0;36mexecute_multiple_people_tracking\u001b[0;34m(video_folder, X, Dt, video_name, dmax, settings_file, batch_size)\u001b[0m\n\u001b[1;32m     52\u001b[0m     \u001b[0mdm\u001b[0m\u001b[0;34m.\u001b[0m\u001b[0mgenerate_matches\u001b[0m\u001b[0;34m(\u001b[0m\u001b[0mvideo_folder\u001b[0m\u001b[0;34m,\u001b[0m \u001b[0mvideo_name\u001b[0m\u001b[0;34m)\u001b[0m\u001b[0;34m\u001b[0m\u001b[0m\n\u001b[1;32m     53\u001b[0m \u001b[0;34m\u001b[0m\u001b[0m\n\u001b[0;32m---> 54\u001b[0;31m     \u001b[0mreid\u001b[0m \u001b[0;34m=\u001b[0m \u001b[0mStackNet64x64\u001b[0m\u001b[0;34m(\u001b[0m\u001b[0mdata_root\u001b[0m\u001b[0;34m)\u001b[0m\u001b[0;34m\u001b[0m\u001b[0m\n\u001b[0m\u001b[1;32m     55\u001b[0m \u001b[0;34m\u001b[0m\u001b[0m\n\u001b[1;32m     56\u001b[0m     \u001b[0mgg\u001b[0m \u001b[0;34m=\u001b[0m \u001b[0mBatchGraphGenerator\u001b[0m\u001b[0;34m(\u001b[0m\u001b[0mdata_root\u001b[0m\u001b[0;34m,\u001b[0m \u001b[0mreid\u001b[0m\u001b[0;34m,\u001b[0m \u001b[0mdm\u001b[0m\u001b[0;34m,\u001b[0m \u001b[0mdmax\u001b[0m\u001b[0;34m,\u001b[0m \u001b[0mvideo_name\u001b[0m\u001b[0;34m)\u001b[0m\u001b[0;34m\u001b[0m\u001b[0m\n",
      "\u001b[0;31mNameError\u001b[0m: name 'root' is not defined"
     ]
    }
   ],
   "source": [
    "video_name = 'MOT16-02'\n",
    "n, h, w = 1080, 1920, 3\n",
    "X = np.zeros((n, h, w, 3))  # the whole video loaded as np array\n",
    "dmax = 100\n",
    "\n",
    "m = 15\n",
    "Dt = np.zeros((m, 6))  # m=number of detections\n",
    "\n",
    "video_loc = '/home/stasysp/Envs/Datasets/MOT16/train/MOT16-02/img1'  # the video must be stored as a folder with the individual frames\n",
    "\n",
    "settings_loc = './settings.txt'  # generated by the install.sh script\n",
    "\n",
    "execute_multiple_people_tracking(video_loc, X, Dt, video_name, dmax, settings_loc)"
   ]
  },
  {
   "cell_type": "code",
   "execution_count": 5,
   "metadata": {},
   "outputs": [
    {
     "name": "stdout",
     "output_type": "stream",
     "text": [
      "{'data_root': '/tmp/mpt',\n",
      " 'deepmatch': '/home/stasysp/Envs/shad/project/cabbage/deepmatching_bin/deepmatching_1.2.2_c++/deepmatching-static',\n",
      " 'graph_solver': '/home/stasysp/Envs/shad/project/cabbage/build/sample'}\n"
     ]
    },
    {
     "ename": "ImportError",
     "evalue": "No module named 'experiments'",
     "output_type": "error",
     "traceback": [
      "\u001b[0;31m---------------------------------------------------------------------------\u001b[0m",
      "\u001b[0;31mImportError\u001b[0m                               Traceback (most recent call last)",
      "\u001b[0;32m<ipython-input-5-739f3ca3d568>\u001b[0m in \u001b[0;36m<module>\u001b[0;34m\u001b[0m\n\u001b[1;32m     10\u001b[0m \u001b[0msys\u001b[0m\u001b[0;34m.\u001b[0m\u001b[0mpath\u001b[0m\u001b[0;34m.\u001b[0m\u001b[0mappend\u001b[0m\u001b[0;34m(\u001b[0m\u001b[0;34m'../'\u001b[0m\u001b[0;34m)\u001b[0m\u001b[0;34m\u001b[0m\u001b[0m\n\u001b[1;32m     11\u001b[0m \u001b[0;32mfrom\u001b[0m \u001b[0mcabbage\u001b[0m\u001b[0;34m.\u001b[0m\u001b[0mMultiplePeopleTracking\u001b[0m \u001b[0;32mimport\u001b[0m \u001b[0mexecute_multiple_people_tracking\u001b[0m\u001b[0;34m\u001b[0m\u001b[0m\n\u001b[0;32m---> 12\u001b[0;31m \u001b[0;32mfrom\u001b[0m \u001b[0mexperiments\u001b[0m \u001b[0;32mimport\u001b[0m \u001b[0mMOT16_Experiments\u001b[0m\u001b[0;34m\u001b[0m\u001b[0m\n\u001b[0m\u001b[1;32m     13\u001b[0m \u001b[0;32mfrom\u001b[0m \u001b[0mcabbage\u001b[0m\u001b[0;34m.\u001b[0m\u001b[0mdata\u001b[0m\u001b[0;34m.\u001b[0m\u001b[0mvideo\u001b[0m \u001b[0;32mimport\u001b[0m \u001b[0mVideoData\u001b[0m\u001b[0;34m\u001b[0m\u001b[0m\n\u001b[1;32m     14\u001b[0m \u001b[0;34m\u001b[0m\u001b[0m\n",
      "\u001b[0;31mImportError\u001b[0m: No module named 'experiments'"
     ]
    }
   ],
   "source": [
    "%matplotlib inline\n",
    "import matplotlib.pyplot as plt\n",
    "import json\n",
    "from pprint import pprint\n",
    "import numpy as np\n",
    "Settings = json.load(open('settings.txt'))\n",
    "pprint(Settings)\n",
    "import numpy as np\n",
    "import sys\n",
    "sys.path.append('../')\n",
    "from cabbage.MultiplePeopleTracking import execute_multiple_people_tracking\n",
    "from experiments import MOT16_Experiments\n",
    "from cabbage.data.video import VideoData\n",
    "\n",
    "root = Settings['data_root']\n",
    "\n",
    "mot16 = MOT16_Experiments(root)\n",
    "video_name = 'MOT16-02'\n",
    "X = mot16.mot16_11_X\n",
    "dmax = 5\n",
    "\n",
    "Dt = mot16.mot16_11_detections\n",
    "\n",
    "video_loc ='/home/stasysp/Envs/Datasets/MOT16/train/MOT16-02/img1'\n",
    "\n",
    "execute_multiple_people_tracking(video_loc, X, Dt, video_name, dmax, 'settings.txt')"
   ]
  },
  {
   "cell_type": "code",
   "execution_count": null,
   "metadata": {},
   "outputs": [],
   "source": []
  }
 ],
 "metadata": {
  "kernelspec": {
   "display_name": "Python 3",
   "language": "python",
   "name": "python3"
  },
  "language_info": {
   "codemirror_mode": {
    "name": "ipython",
    "version": 3
   },
   "file_extension": ".py",
   "mimetype": "text/x-python",
   "name": "python",
   "nbconvert_exporter": "python",
   "pygments_lexer": "ipython3",
   "version": "3.5.2"
  }
 },
 "nbformat": 4,
 "nbformat_minor": 2
}
